{
  "nbformat": 4,
  "nbformat_minor": 0,
  "metadata": {
    "colab": {
      "provenance": [],
      "gpuType": "T4",
      "authorship_tag": "ABX9TyPie4DtVQYeIJdu/7e6PzE+",
      "include_colab_link": true
    },
    "kernelspec": {
      "name": "python3",
      "display_name": "Python 3"
    },
    "language_info": {
      "name": "python"
    },
    "accelerator": "GPU"
  },
  "cells": [
    {
      "cell_type": "markdown",
      "metadata": {
        "id": "view-in-github",
        "colab_type": "text"
      },
      "source": [
        "<a href=\"https://colab.research.google.com/github/Karisjk/loan-prediction-system-using-Logistic-Regression/blob/main/Machine_learning_project.ipynb\" target=\"_parent\"><img src=\"https://colab.research.google.com/assets/colab-badge.svg\" alt=\"Open In Colab\"/></a>"
      ]
    },
    {
      "cell_type": "code",
      "execution_count": 1,
      "metadata": {
        "colab": {
          "base_uri": "https://localhost:8080/"
        },
        "id": "nA-3yDvpM0L_",
        "outputId": "97272fdf-1c00-463d-af41-529202d2f163"
      },
      "outputs": [
        {
          "output_type": "stream",
          "name": "stdout",
          "text": [
            "Requirement already satisfied: pandas in /usr/local/lib/python3.10/dist-packages (2.2.2)\n",
            "Requirement already satisfied: numpy>=1.22.4 in /usr/local/lib/python3.10/dist-packages (from pandas) (1.26.4)\n",
            "Requirement already satisfied: python-dateutil>=2.8.2 in /usr/local/lib/python3.10/dist-packages (from pandas) (2.8.2)\n",
            "Requirement already satisfied: pytz>=2020.1 in /usr/local/lib/python3.10/dist-packages (from pandas) (2024.2)\n",
            "Requirement already satisfied: tzdata>=2022.7 in /usr/local/lib/python3.10/dist-packages (from pandas) (2024.2)\n",
            "Requirement already satisfied: six>=1.5 in /usr/local/lib/python3.10/dist-packages (from python-dateutil>=2.8.2->pandas) (1.16.0)\n",
            "\u001b[31mERROR: Could not find a version that satisfies the requirement scikit (from versions: none)\u001b[0m\u001b[31m\n",
            "\u001b[0m\u001b[31mERROR: No matching distribution found for scikit\u001b[0m\u001b[31m\n",
            "\u001b[0m"
          ]
        }
      ],
      "source": [
        "!pip install pandas\n",
        "!pip install scikit"
      ]
    },
    {
      "cell_type": "code",
      "source": [
        "import pandas as pd\n",
        "\n",
        "file_path=\"/content/data/loan_approval_dataset.csv\"\n",
        "data=pd.read_csv(file_path)\n",
        "print(data.head())"
      ],
      "metadata": {
        "colab": {
          "base_uri": "https://localhost:8080/"
        },
        "id": "jVIqUuGjOjw5",
        "outputId": "437906c4-1d8e-45c8-de39-7ac1a67c5be0"
      },
      "execution_count": 3,
      "outputs": [
        {
          "output_type": "stream",
          "name": "stdout",
          "text": [
            "   loan_id   no_of_dependents      education  self_employed   income_annum  \\\n",
            "0        1                  2       Graduate             No        9600000   \n",
            "1        2                  0   Not Graduate            Yes        4100000   \n",
            "2        3                  3       Graduate             No        9100000   \n",
            "3        4                  3       Graduate             No        8200000   \n",
            "4        5                  5   Not Graduate            Yes        9800000   \n",
            "\n",
            "    loan_amount   loan_term   cibil_score   residential_assets_value  \\\n",
            "0      29900000          12           778                    2400000   \n",
            "1      12200000           8           417                    2700000   \n",
            "2      29700000          20           506                    7100000   \n",
            "3      30700000           8           467                   18200000   \n",
            "4      24200000          20           382                   12400000   \n",
            "\n",
            "    commercial_assets_value   luxury_assets_value   bank_asset_value  \\\n",
            "0                  17600000              22700000            8000000   \n",
            "1                   2200000               8800000            3300000   \n",
            "2                   4500000              33300000           12800000   \n",
            "3                   3300000              23300000            7900000   \n",
            "4                   8200000              29400000            5000000   \n",
            "\n",
            "   loan_status  \n",
            "0     Approved  \n",
            "1     Rejected  \n",
            "2     Rejected  \n",
            "3     Rejected  \n",
            "4     Rejected  \n"
          ]
        }
      ]
    },
    {
      "cell_type": "code",
      "source": [
        "#check for missing values\n",
        "print(data.isnull().sum())"
      ],
      "metadata": {
        "colab": {
          "base_uri": "https://localhost:8080/"
        },
        "id": "iF1IEQtkO__C",
        "outputId": "836f6449-cdfa-42c3-8e38-965c48152250"
      },
      "execution_count": 4,
      "outputs": [
        {
          "output_type": "stream",
          "name": "stdout",
          "text": [
            "loan_id                      0\n",
            " no_of_dependents            0\n",
            " education                   0\n",
            " self_employed               0\n",
            " income_annum                0\n",
            " loan_amount                 0\n",
            " loan_term                   0\n",
            " cibil_score                 0\n",
            " residential_assets_value    0\n",
            " commercial_assets_value     0\n",
            " luxury_assets_value         0\n",
            " bank_asset_value            0\n",
            " loan_status                 0\n",
            "dtype: int64\n"
          ]
        }
      ]
    },
    {
      "cell_type": "code",
      "source": [
        "#remove redundant columns\n",
        "data.drop('loan_id', axis=1, inplace=True)"
      ],
      "metadata": {
        "id": "CqxclNRUPLHd"
      },
      "execution_count": 5,
      "outputs": []
    },
    {
      "cell_type": "code",
      "source": [
        "# Strip leading and trailing spaces in the target variable\n",
        "data['loan_status'] = data['loan_status'].str.strip()\n",
        "\n",
        "# Check unique values to ensure it's cleaned up\n",
        "print(data['loan_status'].unique())\n"
      ],
      "metadata": {
        "colab": {
          "base_uri": "https://localhost:8080/"
        },
        "id": "aFpnTav3Pxqm",
        "outputId": "9a6b6c27-b555-46f0-dc24-b4bdb0cbd856"
      },
      "execution_count": 22,
      "outputs": [
        {
          "output_type": "stream",
          "name": "stdout",
          "text": [
            "['Approved' 'Rejected']\n"
          ]
        }
      ]
    },
    {
      "cell_type": "code",
      "source": [
        "print(data.columns)\n"
      ],
      "metadata": {
        "colab": {
          "base_uri": "https://localhost:8080/"
        },
        "id": "gzp5d44KVDQP",
        "outputId": "3ffe5caf-883a-4d96-b61d-9b11ff5f7c2c"
      },
      "execution_count": 7,
      "outputs": [
        {
          "output_type": "stream",
          "name": "stdout",
          "text": [
            "Index([' no_of_dependents', ' education', ' self_employed', ' income_annum',\n",
            "       ' loan_amount', ' loan_term', ' cibil_score',\n",
            "       ' residential_assets_value', ' commercial_assets_value',\n",
            "       ' luxury_assets_value', ' bank_asset_value', ' loan_status'],\n",
            "      dtype='object')\n"
          ]
        }
      ]
    },
    {
      "cell_type": "code",
      "source": [
        "#standardize column names\n",
        "data.columns= data.columns.str.strip().str.lower()\n",
        "print(data.columns)"
      ],
      "metadata": {
        "colab": {
          "base_uri": "https://localhost:8080/"
        },
        "id": "j4vcJsnbV01Y",
        "outputId": "fd62d901-5826-48a6-e180-33f37dca1617"
      },
      "execution_count": 8,
      "outputs": [
        {
          "output_type": "stream",
          "name": "stdout",
          "text": [
            "Index(['no_of_dependents', 'education', 'self_employed', 'income_annum',\n",
            "       'loan_amount', 'loan_term', 'cibil_score', 'residential_assets_value',\n",
            "       'commercial_assets_value', 'luxury_assets_value', 'bank_asset_value',\n",
            "       'loan_status'],\n",
            "      dtype='object')\n"
          ]
        }
      ]
    },
    {
      "cell_type": "code",
      "source": [
        "data['education'].fillna(data['education'].mode()[0], inplace=True)"
      ],
      "metadata": {
        "colab": {
          "base_uri": "https://localhost:8080/"
        },
        "id": "l-l8u06OWGEO",
        "outputId": "cbf66ad7-8c6b-4b03-b7e6-11e53a2aa373"
      },
      "execution_count": 9,
      "outputs": [
        {
          "output_type": "stream",
          "name": "stderr",
          "text": [
            "<ipython-input-9-03d86296fc38>:1: FutureWarning: A value is trying to be set on a copy of a DataFrame or Series through chained assignment using an inplace method.\n",
            "The behavior will change in pandas 3.0. This inplace method will never work because the intermediate object on which we are setting values always behaves as a copy.\n",
            "\n",
            "For example, when doing 'df[col].method(value, inplace=True)', try using 'df.method({col: value}, inplace=True)' or df[col] = df[col].method(value) instead, to perform the operation inplace on the original object.\n",
            "\n",
            "\n",
            "  data['education'].fillna(data['education'].mode()[0], inplace=True)\n"
          ]
        }
      ]
    },
    {
      "cell_type": "code",
      "source": [
        "#encoding ctegorical variables\n",
        "from sklearn.preprocessing import LabelEncoder\n",
        "\n",
        "le= LabelEncoder()\n",
        "\n",
        "data['education']= le.fit_transform(data['education'])\n",
        "data['self_employed']= le.fit_transform(data['self_employed'])"
      ],
      "metadata": {
        "id": "i3v6BdOCWcfl"
      },
      "execution_count": 10,
      "outputs": []
    },
    {
      "cell_type": "code",
      "source": [
        "#create derived features\n",
        "#debt-to-income ratio\n",
        "data['debt_to_income']=data['loan_amount']/data['income_annum']"
      ],
      "metadata": {
        "id": "MoyR25DIX6Oq"
      },
      "execution_count": 11,
      "outputs": []
    },
    {
      "cell_type": "code",
      "source": [
        "#asset-to-loan ratio\n",
        "data['asset_to_loan']= (data['residential_assets_value']+data['commercial_assets_value']+data['luxury_assets_value'])/data['loan_amount']"
      ],
      "metadata": {
        "id": "RoL73UPLYXW-"
      },
      "execution_count": 13,
      "outputs": []
    },
    {
      "cell_type": "code",
      "source": [],
      "metadata": {
        "id": "rFflCXynZAuk"
      },
      "execution_count": null,
      "outputs": []
    },
    {
      "cell_type": "markdown",
      "source": [
        "normalize numerical features"
      ],
      "metadata": {
        "id": "GvF0gEufZOxO"
      }
    },
    {
      "cell_type": "code",
      "source": [
        "from sklearn.preprocessing import MinMaxScaler\n",
        "scaler= MinMaxScaler()\n",
        "\n",
        "#normalize columns\n",
        "num_cols= ['income_annum', 'loan_amount', 'loan_term', 'cibil_score',\n",
        "           'residential_assets_value','commercial_assets_value',\n",
        "           'luxury_assets_value', 'debt_to_income', 'asset_to_loan']\n",
        "\n",
        "data[num_cols]=scaler.fit_transform(data[num_cols])"
      ],
      "metadata": {
        "id": "8ycG_NitZVy3"
      },
      "execution_count": 15,
      "outputs": []
    },
    {
      "cell_type": "markdown",
      "source": [
        "verify the dataset\n"
      ],
      "metadata": {
        "id": "K84KLHBzbjYP"
      }
    },
    {
      "cell_type": "code",
      "source": [
        "print(data.head())\n",
        "print(data.info())"
      ],
      "metadata": {
        "colab": {
          "base_uri": "https://localhost:8080/"
        },
        "id": "qbkp7aHrbnve",
        "outputId": "f554e2e3-886b-4e54-d256-e8d7c1cbaecb"
      },
      "execution_count": 16,
      "outputs": [
        {
          "output_type": "stream",
          "name": "stdout",
          "text": [
            "   no_of_dependents  education  self_employed  income_annum  loan_amount  \\\n",
            "0                 2          0              0      0.969072     0.755102   \n",
            "1                 0          1              1      0.402062     0.303571   \n",
            "2                 3          0              0      0.917526     0.750000   \n",
            "3                 3          0              0      0.824742     0.775510   \n",
            "4                 5          1              1      0.989691     0.609694   \n",
            "\n",
            "   loan_term  cibil_score  residential_assets_value  commercial_assets_value  \\\n",
            "0   0.555556     0.796667                  0.085616                 0.907216   \n",
            "1   0.333333     0.195000                  0.095890                 0.113402   \n",
            "2   1.000000     0.343333                  0.246575                 0.231959   \n",
            "3   0.333333     0.278333                  0.626712                 0.170103   \n",
            "4   1.000000     0.136667                  0.428082                 0.422680   \n",
            "\n",
            "   luxury_assets_value  bank_asset_value loan_status  debt_to_income  \\\n",
            "0             0.575835           8000000    Approved        0.645833   \n",
            "1             0.218509           3300000    Rejected        0.590244   \n",
            "2             0.848329          12800000    Rejected        0.705495   \n",
            "3             0.591260           7900000    Rejected        0.897561   \n",
            "4             0.748072           5000000    Rejected        0.387755   \n",
            "\n",
            "   asset_to_loan  \n",
            "0       0.208397  \n",
            "1       0.146544  \n",
            "2       0.225362  \n",
            "3       0.214720  \n",
            "4       0.337726  \n",
            "<class 'pandas.core.frame.DataFrame'>\n",
            "RangeIndex: 4269 entries, 0 to 4268\n",
            "Data columns (total 14 columns):\n",
            " #   Column                    Non-Null Count  Dtype  \n",
            "---  ------                    --------------  -----  \n",
            " 0   no_of_dependents          4269 non-null   int64  \n",
            " 1   education                 4269 non-null   int64  \n",
            " 2   self_employed             4269 non-null   int64  \n",
            " 3   income_annum              4269 non-null   float64\n",
            " 4   loan_amount               4269 non-null   float64\n",
            " 5   loan_term                 4269 non-null   float64\n",
            " 6   cibil_score               4269 non-null   float64\n",
            " 7   residential_assets_value  4269 non-null   float64\n",
            " 8   commercial_assets_value   4269 non-null   float64\n",
            " 9   luxury_assets_value       4269 non-null   float64\n",
            " 10  bank_asset_value          4269 non-null   int64  \n",
            " 11  loan_status               4269 non-null   object \n",
            " 12  debt_to_income            4269 non-null   float64\n",
            " 13  asset_to_loan             4269 non-null   float64\n",
            "dtypes: float64(9), int64(4), object(1)\n",
            "memory usage: 467.0+ KB\n",
            "None\n"
          ]
        }
      ]
    },
    {
      "cell_type": "markdown",
      "source": [
        "splitting the dataset"
      ],
      "metadata": {
        "id": "SK-Li03NcNnC"
      }
    },
    {
      "cell_type": "code",
      "source": [
        "from sklearn.model_selection import train_test_split\n",
        "# separate features(x) and(y)\n",
        "X=data.drop('loan_status', axis=1)\n",
        "y=data['loan_status']\n",
        "#perform the split\n",
        "X_train, X_test, y_train, y_test= train_test_split(X,y, test_size=0.2, random_state=42)\n",
        "print(f'training set size: {X_train.shape[0]} rows')\n",
        "print(f'testing set size: {X_test.shape[0]} rows')"
      ],
      "metadata": {
        "colab": {
          "base_uri": "https://localhost:8080/"
        },
        "id": "F6BFwNTLbv86",
        "outputId": "3ef3c999-1fb2-4301-c9dd-a346649a63b9"
      },
      "execution_count": 19,
      "outputs": [
        {
          "output_type": "stream",
          "name": "stdout",
          "text": [
            "training set size: 3415 rows\n",
            "testing set size: 854 rows\n"
          ]
        }
      ]
    },
    {
      "cell_type": "markdown",
      "source": [
        "training with logistic regression"
      ],
      "metadata": {
        "id": "vDdtB8iIeDST"
      }
    },
    {
      "cell_type": "code",
      "source": [
        "from sklearn.linear_model import LogisticRegression\n",
        "from sklearn.metrics import accuracy_score, precision_score, recall_score, f1_score, confusion_matrix\n",
        "model= LogisticRegression(random_state=42)\n",
        "model.fit(X_train, y_train)\n",
        "y_pred= model.predict(X_test)\n",
        "print(\"accuracy:\", accuracy_score(y_test, y_pred))\n",
        "print(\"Precision:\", precision_score(y_test, y_pred, pos_label=' Rejected'))\n",
        "print(\"Recall:\", recall_score(y_test, y_pred, pos_label=' Rejected'))\n",
        "print(\"F1 Score:\", f1_score(y_test, y_pred, pos_label=\" Rejected\"))\n",
        "#confusion matrix\n",
        "print(\"confusion Matrix:\\n\", confusion_matrix(y_test, y_pred))"
      ],
      "metadata": {
        "colab": {
          "base_uri": "https://localhost:8080/"
        },
        "id": "c9H1KGuVdsK2",
        "outputId": "2675d49f-4170-4493-996c-e9806fa5b320"
      },
      "execution_count": 24,
      "outputs": [
        {
          "output_type": "stream",
          "name": "stdout",
          "text": [
            "accuracy: 0.7822014051522248\n",
            "Precision: 0.7773109243697479\n",
            "Recall: 0.5817610062893082\n",
            "F1 Score: 0.6654676258992805\n",
            "confusion Matrix:\n",
            " [[483  53]\n",
            " [133 185]]\n"
          ]
        },
        {
          "output_type": "stream",
          "name": "stderr",
          "text": [
            "/usr/local/lib/python3.10/dist-packages/sklearn/linear_model/_logistic.py:469: ConvergenceWarning: lbfgs failed to converge (status=1):\n",
            "STOP: TOTAL NO. of ITERATIONS REACHED LIMIT.\n",
            "\n",
            "Increase the number of iterations (max_iter) or scale the data as shown in:\n",
            "    https://scikit-learn.org/stable/modules/preprocessing.html\n",
            "Please also refer to the documentation for alternative solver options:\n",
            "    https://scikit-learn.org/stable/modules/linear_model.html#logistic-regression\n",
            "  n_iter_i = _check_optimize_result(\n"
          ]
        }
      ]
    },
    {
      "cell_type": "markdown",
      "source": [
        "hyperparameter tuning"
      ],
      "metadata": {
        "id": "qoPn75NqiU-i"
      }
    },
    {
      "cell_type": "code",
      "source": [
        "from sklearn.model_selection import GridSearchCV\n",
        "from sklearn.linear_model import LogisticRegression\n",
        "from sklearn.metrics import accuracy_score, precision_score, recall_score, f1_score, confusion_matrix\n",
        "\n",
        "# Initialize the Logistic Regression model\n",
        "model = LogisticRegression(random_state=42)\n",
        "\n",
        "# Define the parameter grid\n",
        "param_grid = {\n",
        "    'C': [0.001, 0.01, 0.1, 1, 10, 100],              # Regularization strength\n",
        "    'solver': ['liblinear', 'lbfgs', 'saga'],          # Optimization algorithms\n",
        "    'penalty': ['l2', 'elasticnet'],                   # Regularization types\n",
        "    'max_iter': [100, 200, 300]                        # Number of iterations for convergence\n",
        "}\n",
        "\n",
        "# Initialize GridSearchCV with 5-fold cross-validation\n",
        "grid_search = GridSearchCV(estimator=model, param_grid=param_grid,\n",
        "                           scoring='accuracy', cv=5, n_jobs=-1, verbose=1)\n",
        "\n",
        "# Fit the model to find the best parameters\n",
        "grid_search.fit(X_train, y_train)\n",
        "\n",
        "# Ensure the grid search completed and the best_estimator_ is available\n",
        "if grid_search.best_estimator_:\n",
        "    print(\"Best parameters found: \", grid_search.best_params_)\n",
        "\n",
        "    # Get the best model\n",
        "    best_model = grid_search.best_estimator_\n",
        "\n",
        "    # Evaluate the best model on the test set\n",
        "    y_pred = best_model.predict(X_test)\n",
        "\n",
        "    # Print evaluation metrics\n",
        "    print(\"Accuracy:\", accuracy_score(y_test, y_pred))\n",
        "    print(\"Precision:\", precision_score(y_test, y_pred, pos_label=' Approved'))\n",
        "    print(\"Recall:\", recall_score(y_test, y_pred, pos_label=' Approved'))\n",
        "    print(\"F1 Score:\", f1_score(y_test, y_pred, pos_label=' Approved'))\n",
        "\n",
        "    # Confusion Matrix\n",
        "    print(\"Confusion Matrix:\\n\", confusion_matrix(y_test, y_pred))\n",
        "\n",
        "else:\n",
        "    print(\"Grid search did not complete successfully.\")\n",
        "\n"
      ],
      "metadata": {
        "colab": {
          "base_uri": "https://localhost:8080/"
        },
        "id": "Y604-_nzib0-",
        "outputId": "f1b12b16-fdd7-4ae8-f663-ac504065ea58"
      },
      "execution_count": 28,
      "outputs": [
        {
          "output_type": "stream",
          "name": "stdout",
          "text": [
            "Fitting 5 folds for each of 108 candidates, totalling 540 fits\n",
            "Best parameters found:  {'C': 100, 'max_iter': 300, 'penalty': 'l2', 'solver': 'lbfgs'}\n",
            "Accuracy: 0.8934426229508197\n",
            "Precision: 0.9097605893186004\n",
            "Recall: 0.9216417910447762\n",
            "F1 Score: 0.9156626506024096\n",
            "Confusion Matrix:\n",
            " [[494  42]\n",
            " [ 49 269]]\n"
          ]
        },
        {
          "output_type": "stream",
          "name": "stderr",
          "text": [
            "/usr/local/lib/python3.10/dist-packages/sklearn/model_selection/_validation.py:540: FitFailedWarning: \n",
            "270 fits failed out of a total of 540.\n",
            "The score on these train-test partitions for these parameters will be set to nan.\n",
            "If these failures are not expected, you can try to debug them by setting error_score='raise'.\n",
            "\n",
            "Below are more details about the failures:\n",
            "--------------------------------------------------------------------------------\n",
            "90 fits failed with the following error:\n",
            "Traceback (most recent call last):\n",
            "  File \"/usr/local/lib/python3.10/dist-packages/sklearn/model_selection/_validation.py\", line 888, in _fit_and_score\n",
            "    estimator.fit(X_train, y_train, **fit_params)\n",
            "  File \"/usr/local/lib/python3.10/dist-packages/sklearn/base.py\", line 1473, in wrapper\n",
            "    return fit_method(estimator, *args, **kwargs)\n",
            "  File \"/usr/local/lib/python3.10/dist-packages/sklearn/linear_model/_logistic.py\", line 1194, in fit\n",
            "    solver = _check_solver(self.solver, self.penalty, self.dual)\n",
            "  File \"/usr/local/lib/python3.10/dist-packages/sklearn/linear_model/_logistic.py\", line 75, in _check_solver\n",
            "    raise ValueError(\n",
            "ValueError: Only 'saga' solver supports elasticnet penalty, got solver=liblinear.\n",
            "\n",
            "--------------------------------------------------------------------------------\n",
            "90 fits failed with the following error:\n",
            "Traceback (most recent call last):\n",
            "  File \"/usr/local/lib/python3.10/dist-packages/sklearn/model_selection/_validation.py\", line 888, in _fit_and_score\n",
            "    estimator.fit(X_train, y_train, **fit_params)\n",
            "  File \"/usr/local/lib/python3.10/dist-packages/sklearn/base.py\", line 1473, in wrapper\n",
            "    return fit_method(estimator, *args, **kwargs)\n",
            "  File \"/usr/local/lib/python3.10/dist-packages/sklearn/linear_model/_logistic.py\", line 1194, in fit\n",
            "    solver = _check_solver(self.solver, self.penalty, self.dual)\n",
            "  File \"/usr/local/lib/python3.10/dist-packages/sklearn/linear_model/_logistic.py\", line 67, in _check_solver\n",
            "    raise ValueError(\n",
            "ValueError: Solver lbfgs supports only 'l2' or None penalties, got elasticnet penalty.\n",
            "\n",
            "--------------------------------------------------------------------------------\n",
            "90 fits failed with the following error:\n",
            "Traceback (most recent call last):\n",
            "  File \"/usr/local/lib/python3.10/dist-packages/sklearn/model_selection/_validation.py\", line 888, in _fit_and_score\n",
            "    estimator.fit(X_train, y_train, **fit_params)\n",
            "  File \"/usr/local/lib/python3.10/dist-packages/sklearn/base.py\", line 1473, in wrapper\n",
            "    return fit_method(estimator, *args, **kwargs)\n",
            "  File \"/usr/local/lib/python3.10/dist-packages/sklearn/linear_model/_logistic.py\", line 1204, in fit\n",
            "    raise ValueError(\"l1_ratio must be specified when penalty is elasticnet.\")\n",
            "ValueError: l1_ratio must be specified when penalty is elasticnet.\n",
            "\n",
            "  warnings.warn(some_fits_failed_message, FitFailedWarning)\n",
            "/usr/local/lib/python3.10/dist-packages/sklearn/model_selection/_search.py:1103: UserWarning: One or more of the test scores are non-finite: [0.62079063 0.62079063 0.62079063        nan        nan        nan\n",
            " 0.62079063 0.62079063 0.62079063        nan        nan        nan\n",
            " 0.62079063 0.62079063 0.62079063        nan        nan        nan\n",
            " 0.62079063 0.64568082 0.62079063        nan        nan        nan\n",
            " 0.62079063 0.64568082 0.62079063        nan        nan        nan\n",
            " 0.62079063 0.64568082 0.62079063        nan        nan        nan\n",
            " 0.62079063 0.67847731 0.62079063        nan        nan        nan\n",
            " 0.62079063 0.70922401 0.62079063        nan        nan        nan\n",
            " 0.62079063 0.70922401 0.62079063        nan        nan        nan\n",
            " 0.62079063 0.67935578 0.62079063        nan        nan        nan\n",
            " 0.62079063 0.67935578 0.62079063        nan        nan        nan\n",
            " 0.62079063 0.67935578 0.62079063        nan        nan        nan\n",
            " 0.62079063 0.68316252 0.62079063        nan        nan        nan\n",
            " 0.62079063 0.73060029 0.62079063        nan        nan        nan\n",
            " 0.62079063 0.73060029 0.62079063        nan        nan        nan\n",
            " 0.62079063 0.69604685 0.62079063        nan        nan        nan\n",
            " 0.62079063 0.73060029 0.62079063        nan        nan        nan\n",
            " 0.62079063 0.73235725 0.62079063        nan        nan        nan]\n",
            "  warnings.warn(\n"
          ]
        }
      ]
    },
    {
      "cell_type": "code",
      "source": [],
      "metadata": {
        "id": "ncbyUn_Ckyj0"
      },
      "execution_count": null,
      "outputs": []
    }
  ]
}